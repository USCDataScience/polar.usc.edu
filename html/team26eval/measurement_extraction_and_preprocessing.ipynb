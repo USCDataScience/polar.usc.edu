{
 "cells": [
  {
   "cell_type": "code",
   "execution_count": 1,
   "metadata": {
    "collapsed": true
   },
   "outputs": [],
   "source": [
    "import json\n",
    "import itertools\n",
    "import numpy as np\n",
    "import pandas as pd\n",
    "from collections import Counter\n"
   ]
  },
  {
   "cell_type": "code",
   "execution_count": 2,
   "metadata": {
    "collapsed": true
   },
   "outputs": [],
   "source": [
    "with open(\"ner_units.json\") as thefile:\n",
    "    unitfile = json.load(thefile)"
   ]
  },
  {
   "cell_type": "code",
   "execution_count": 13,
   "metadata": {
    "collapsed": false
   },
   "outputs": [],
   "source": [
    "list_of_all_measurements = [x for x in itertools.chain(*[x['ner_units'] for x in unitfile['response']['docs']])]"
   ]
  },
  {
   "cell_type": "code",
   "execution_count": 20,
   "metadata": {
    "collapsed": false
   },
   "outputs": [
    {
     "data": {
      "text/plain": [
       "[('2 Accent', 138),\n",
       " ('1 Accent', 137),\n",
       " ('2F %', 126),\n",
       " ('95 %', 114),\n",
       " ('3A %', 107),\n",
       " ('6/13/2014 Signe', 94),\n",
       " ('2Fabcnews.go.com %', 80),\n",
       " ('100 %', 79),\n",
       " ('2Bat %', 62),\n",
       " ('2FwireStory %', 60),\n",
       " ('5/12/2014 Signe', 58),\n",
       " ('6/20/2014 Signe', 58),\n",
       " ('2BShot %', 58),\n",
       " ('3 Accent', 46),\n",
       " ('50 %', 38),\n",
       " ('10 %', 36),\n",
       " ('2FUS %', 30),\n",
       " ('9 ]', 29),\n",
       " ('30 %', 23),\n",
       " ('five years', 22),\n",
       " ('20 %', 20),\n",
       " ('2FSports %', 20),\n",
       " ('3Fid %', 20),\n",
       " ('6/2/2014 Signe', 20),\n",
       " ('2Fstory %', 20),\n",
       " ('0px auto', 20),\n",
       " ('two decades', 19),\n",
       " ('28ISSN %', 19),\n",
       " ('15 %', 18),\n",
       " ('0 %', 18),\n",
       " ('2014 Society', 18),\n",
       " ('18 U.S.C', 17),\n",
       " ('27 %', 17),\n",
       " ('1 %', 17),\n",
       " ('2015 John', 17),\n",
       " ('80 %', 17),\n",
       " ('70 %', 16),\n",
       " ('5B1 %', 16),\n",
       " ('2015 Hearing', 16),\n",
       " ('three years', 16),\n",
       " ('two weeks', 16),\n",
       " ('one thing', 15),\n",
       " ('5 %', 14),\n",
       " ('90 %', 14),\n",
       " ('two types', 14),\n",
       " ('1200 UTC', 14),\n",
       " ('1:29 PM', 14),\n",
       " ('two years', 13),\n",
       " ('0px inherit', 12),\n",
       " ('1.2 http', 12),\n",
       " ('four decades', 12),\n",
       " ('60 %', 12),\n",
       " ('10 years', 12),\n",
       " ('2014 AND', 11),\n",
       " ('2.9 http', 11),\n",
       " ('3 %', 11),\n",
       " ('six months', 10),\n",
       " ('3A+Is+Sex+Becoming+More+Social %', 10),\n",
       " ('30 years', 10),\n",
       " ('20 years', 10),\n",
       " ('27Personalized+Porn %', 10),\n",
       " ('2FPolitics %', 10),\n",
       " ('2FEntertainment %', 10),\n",
       " ('2FLifestyle %', 10),\n",
       " ('million people', 10),\n",
       " ('6 h', 9),\n",
       " ('4.9 http', 9),\n",
       " ('nine months', 9),\n",
       " ('2014 Wiley', 9),\n",
       " ('75 %', 9),\n",
       " ('22 %', 9),\n",
       " ('six categories', 8),\n",
       " ('1 trivia game', 8),\n",
       " ('18 %', 8),\n",
       " ('two orders', 8),\n",
       " ('2014 Big', 8),\n",
       " ('63 %', 8),\n",
       " ('2Ffeed %', 8),\n",
       " ('15 Presente', 8),\n",
       " ('2Fwww.discoverclarksville.com %', 8),\n",
       " ('40 years', 8),\n",
       " ('21 %', 8),\n",
       " ('24 hours', 8),\n",
       " ('2Fatom %', 8),\n",
       " ('4 %', 8),\n",
       " ('three months', 8),\n",
       " ('one place', 8),\n",
       " ('100 thousand questions', 8),\n",
       " ('million members', 8),\n",
       " ('2015 Universal', 8),\n",
       " ('25 %', 8),\n",
       " ('2Farticles %', 8),\n",
       " ('two nights', 8),\n",
       " ('16 %', 8),\n",
       " ('29 %', 7),\n",
       " ('2014 winstgevend', 7),\n",
       " ('14 %', 7),\n",
       " ('hundred years', 7),\n",
       " ('12 years', 7),\n",
       " ('23 %', 7),\n",
       " ('two approaches', 7),\n",
       " ('q= %', 7),\n",
       " ('10 percent', 7),\n",
       " ('one hour', 7),\n",
       " ('11 %', 7),\n",
       " ('1px solid rgb', 7),\n",
       " ('3 km', 7),\n",
       " ('18 months', 7),\n",
       " ('11.9 http', 7),\n",
       " ('9.9 http', 7),\n",
       " ('2 years', 7),\n",
       " ('four years', 7),\n",
       " ('2014 William', 6),\n",
       " ('100 kyr', 6),\n",
       " ('2BBembry %', 6),\n",
       " ('10 ]', 6),\n",
       " ('3.7 W', 6),\n",
       " ('two countries', 6),\n",
       " ('20:00:00 GMT+', 6),\n",
       " ('twenty years', 6),\n",
       " ('million homes', 6),\n",
       " ('2BHonors %', 6),\n",
       " ('million cubic feet', 6),\n",
       " ('2008 Apple', 6),\n",
       " ('72 %', 6),\n",
       " ('28 U.S.C', 6),\n",
       " ('one day', 6),\n",
       " ('2014 Asylum', 6),\n",
       " ('78 %', 6),\n",
       " ('one week', 6),\n",
       " ('one tap', 6),\n",
       " ('19 miles', 6),\n",
       " ('2014 KIDinaKORNER/Interscope', 6),\n",
       " ('12.9 http', 6),\n",
       " ('18:00:00 GMT+', 6),\n",
       " ('30 wt', 6),\n",
       " ('two population', 6),\n",
       " ('six species', 6),\n",
       " ('3Dblogger %', 6),\n",
       " ('2013 Warner', 6),\n",
       " ('1 ]', 6),\n",
       " ('million years', 6),\n",
       " ('24 %', 6),\n",
       " ('6 years', 6),\n",
       " ('2BBET %', 6),\n",
       " ('28 days', 6),\n",
       " ('million barrels', 5),\n",
       " ('2 M', 5),\n",
       " ('700 mb', 5),\n",
       " ('99 %', 5),\n",
       " ('seven years', 5),\n",
       " ('3D seismic reflection', 5),\n",
       " ('one year', 5),\n",
       " ('30 countries', 5),\n",
       " ('0px rgb', 5),\n",
       " ('2015 Island', 5),\n",
       " ('0 replie', 5),\n",
       " ('2.5 %', 5),\n",
       " ('three categories', 5),\n",
       " ('40 %', 5),\n",
       " ('2014 al', 5),\n",
       " ('94 %', 5),\n",
       " ('5 kg', 5),\n",
       " ('two days', 5),\n",
       " ('three species', 5),\n",
       " ('two months', 5),\n",
       " ('1.2 m3', 5),\n",
       " ('2.24 kg·ha1', 5),\n",
       " ('30 days', 5),\n",
       " ('15 years', 5),\n",
       " ('6 months', 5),\n",
       " ('100 m', 5),\n",
       " ('10 inches', 5),\n",
       " ('two groups', 5),\n",
       " ('three groups', 5),\n",
       " ('76 %', 5),\n",
       " ('four times', 5),\n",
       " ('5 days', 5),\n",
       " ('21 July', 4),\n",
       " ('28 %', 4),\n",
       " ('one type', 4),\n",
       " ('2014 Marvel', 4),\n",
       " ('23.9 °C', 4),\n",
       " ('12 hours', 4),\n",
       " ('3 genera', 4),\n",
       " ('100 meters', 4),\n",
       " ('100 union', 4),\n",
       " ('30 m', 4),\n",
       " ('05 MAR', 4),\n",
       " ('30° N', 4),\n",
       " ('7:30 PM', 4),\n",
       " ('2015 BIG', 4),\n",
       " ('million tons', 4),\n",
       " ('800 hPa', 4),\n",
       " ('12 km', 4),\n",
       " ('4 days', 4),\n",
       " ('seven days', 4),\n",
       " ('2BDonor %', 4),\n",
       " ('2014 Universal', 4),\n",
       " ('24 h', 4)]"
      ]
     },
     "execution_count": 20,
     "metadata": {},
     "output_type": "execute_result"
    }
   ],
   "source": [
    "Counter(list_of_all_measurements).most_common(200)"
   ]
  },
  {
   "cell_type": "code",
   "execution_count": 23,
   "metadata": {
    "collapsed": false
   },
   "outputs": [],
   "source": [
    "def F_to_C(F):\n",
    "    return((Fahrenheit - 32) * 5.0/9.0)"
   ]
  },
  {
   "cell_type": "code",
   "execution_count": 25,
   "metadata": {
    "collapsed": false
   },
   "outputs": [
    {
     "ename": "TypeError",
     "evalue": "list indices must be integers, not str",
     "output_type": "error",
     "traceback": [
      "\u001b[0;31m---------------------------------------------------------------------------\u001b[0m",
      "\u001b[0;31mTypeError\u001b[0m                                 Traceback (most recent call last)",
      "\u001b[0;32m<ipython-input-25-32dfc62fc1d9>\u001b[0m in \u001b[0;36m<module>\u001b[0;34m()\u001b[0m\n\u001b[0;32m----> 1\u001b[0;31m \u001b[0mF_to_C\u001b[0m\u001b[0;34m(\u001b[0m\u001b[0mlist_of_all_measurements\u001b[0m\u001b[0;34m[\u001b[0m\u001b[0;34m'F'\u001b[0m\u001b[0;34m]\u001b[0m\u001b[0;34m)\u001b[0m\u001b[0;34m\u001b[0m\u001b[0m\n\u001b[0m",
      "\u001b[0;31mTypeError\u001b[0m: list indices must be integers, not str"
     ]
    }
   ],
   "source": [
    "F_to_C(list_of_all_measurements['F'])"
   ]
  },
  {
   "cell_type": "code",
   "execution_count": null,
   "metadata": {
    "collapsed": true
   },
   "outputs": [],
   "source": []
  }
 ],
 "metadata": {
  "kernelspec": {
   "display_name": "Python 3",
   "language": "python",
   "name": "python3"
  },
  "language_info": {
   "codemirror_mode": {
    "name": "ipython",
    "version": 3
   },
   "file_extension": ".py",
   "mimetype": "text/x-python",
   "name": "python",
   "nbconvert_exporter": "python",
   "pygments_lexer": "ipython3",
   "version": "3.4.3"
  }
 },
 "nbformat": 4,
 "nbformat_minor": 0
}
